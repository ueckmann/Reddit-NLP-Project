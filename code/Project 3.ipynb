{
 "cells": [
  {
   "cell_type": "markdown",
   "metadata": {},
   "source": [
    "# Title\n",
    "### Author [Github](Github link)"
   ]
  },
  {
   "cell_type": "markdown",
   "metadata": {},
   "source": [
    "## Problem Statement\n",
    "\n",
    "- What's my problem\n",
    "- __How__ will I solve this problem?"
   ]
  },
  {
   "cell_type": "markdown",
   "metadata": {},
   "source": [
    "## Executive Summary"
   ]
  },
  {
   "cell_type": "markdown",
   "metadata": {},
   "source": [
    "## Table of Contents"
   ]
  },
  {
   "cell_type": "markdown",
   "metadata": {},
   "source": [
    "## Loading packages and Data"
   ]
  },
  {
   "cell_type": "code",
   "execution_count": 43,
   "metadata": {},
   "outputs": [],
   "source": [
    "import time\n",
    "import numpy as np\n",
    "import datetime as dt\n",
    "import requests\n",
    "import pandas as pd\n",
    "pd.set_option(\"display.max_columns\", None)\n",
    "pd.set_option('display.max_colwidth', 200)\n",
    "from sklearn.feature_extraction.text import CountVectorizer, TfidfVectorizer"
   ]
  },
  {
   "cell_type": "code",
   "execution_count": 44,
   "metadata": {},
   "outputs": [
    {
     "data": {
      "text/html": [
       "<div>\n",
       "<style scoped>\n",
       "    .dataframe tbody tr th:only-of-type {\n",
       "        vertical-align: middle;\n",
       "    }\n",
       "\n",
       "    .dataframe tbody tr th {\n",
       "        vertical-align: top;\n",
       "    }\n",
       "\n",
       "    .dataframe thead th {\n",
       "        text-align: right;\n",
       "    }\n",
       "</style>\n",
       "<table border=\"1\" class=\"dataframe\">\n",
       "  <thead>\n",
       "    <tr style=\"text-align: right;\">\n",
       "      <th></th>\n",
       "      <th>title</th>\n",
       "      <th>selftext</th>\n",
       "      <th>subreddit</th>\n",
       "      <th>created_utc</th>\n",
       "      <th>author</th>\n",
       "      <th>num_comments</th>\n",
       "      <th>score</th>\n",
       "      <th>is_self</th>\n",
       "      <th>timestamp</th>\n",
       "    </tr>\n",
       "  </thead>\n",
       "  <tbody>\n",
       "    <tr>\n",
       "      <th>0</th>\n",
       "      <td>LF Recommendation: Fantasy with long travel episode(s)?</td>\n",
       "      <td>Hi looking for recommendation for a top preferably well known / well-regarded fantasy novel that has as part of its story arc some sort of longer traveling section where character(s) have to trave...</td>\n",
       "      <td>Fantasy</td>\n",
       "      <td>1595295818</td>\n",
       "      <td>Overthrown77</td>\n",
       "      <td>16</td>\n",
       "      <td>5</td>\n",
       "      <td>True</td>\n",
       "      <td>2020-07-20</td>\n",
       "    </tr>\n",
       "    <tr>\n",
       "      <th>1</th>\n",
       "      <td>What is the best Fantasy book you've read that has three stars or less on Goodreads?</td>\n",
       "      <td>usually I don't enjoy something below four stars, to be honest. But sometimes a 3 star book will leave me baffled at everybody's madness, wondering if I read a version from a different timeline be...</td>\n",
       "      <td>Fantasy</td>\n",
       "      <td>1595304562</td>\n",
       "      <td>OraclePreston</td>\n",
       "      <td>55</td>\n",
       "      <td>19</td>\n",
       "      <td>True</td>\n",
       "      <td>2020-07-21</td>\n",
       "    </tr>\n",
       "    <tr>\n",
       "      <th>2</th>\n",
       "      <td>Favorite fantasy names?</td>\n",
       "      <td>I love fantasy, and I also have a thing for names. I’d love to hear everyone’s favorite character names from fantasy! It would also be cool to hear if anyone has named their children after their f...</td>\n",
       "      <td>Fantasy</td>\n",
       "      <td>1595305376</td>\n",
       "      <td>omnomenclature</td>\n",
       "      <td>59</td>\n",
       "      <td>17</td>\n",
       "      <td>True</td>\n",
       "      <td>2020-07-21</td>\n",
       "    </tr>\n",
       "    <tr>\n",
       "      <th>3</th>\n",
       "      <td>Anyone can recommend me a book without having a focus on the monarchy?</td>\n",
       "      <td>Idk how else to put the title but I really want to get a good story of adventure on the perspective of a commoner or some mercenary, etc. It can have a monarchy in it just not have it be a focus o...</td>\n",
       "      <td>Fantasy</td>\n",
       "      <td>1595305716</td>\n",
       "      <td>UlyssesCourier</td>\n",
       "      <td>61</td>\n",
       "      <td>33</td>\n",
       "      <td>True</td>\n",
       "      <td>2020-07-21</td>\n",
       "    </tr>\n",
       "    <tr>\n",
       "      <th>4</th>\n",
       "      <td>It’s been 10 years since I read “The Way of Kings” the first time.</td>\n",
       "      <td>And now, here I am, a 32 year old man, chuckling under my blanket at the mental image of 35 bridgemen marching tightly through a chaotic war amp in parshendi bone-armor. At 2 in the morning. I fee...</td>\n",
       "      <td>Fantasy</td>\n",
       "      <td>1595311158</td>\n",
       "      <td>Bock_Tea</td>\n",
       "      <td>65</td>\n",
       "      <td>126</td>\n",
       "      <td>True</td>\n",
       "      <td>2020-07-21</td>\n",
       "    </tr>\n",
       "  </tbody>\n",
       "</table>\n",
       "</div>"
      ],
      "text/plain": [
       "                                                                                  title  \\\n",
       "0                               LF Recommendation: Fantasy with long travel episode(s)?   \n",
       "1  What is the best Fantasy book you've read that has three stars or less on Goodreads?   \n",
       "2                                                               Favorite fantasy names?   \n",
       "3                Anyone can recommend me a book without having a focus on the monarchy?   \n",
       "4                    It’s been 10 years since I read “The Way of Kings” the first time.   \n",
       "\n",
       "                                                                                                                                                                                                  selftext  \\\n",
       "0  Hi looking for recommendation for a top preferably well known / well-regarded fantasy novel that has as part of its story arc some sort of longer traveling section where character(s) have to trave...   \n",
       "1  usually I don't enjoy something below four stars, to be honest. But sometimes a 3 star book will leave me baffled at everybody's madness, wondering if I read a version from a different timeline be...   \n",
       "2  I love fantasy, and I also have a thing for names. I’d love to hear everyone’s favorite character names from fantasy! It would also be cool to hear if anyone has named their children after their f...   \n",
       "3  Idk how else to put the title but I really want to get a good story of adventure on the perspective of a commoner or some mercenary, etc. It can have a monarchy in it just not have it be a focus o...   \n",
       "4  And now, here I am, a 32 year old man, chuckling under my blanket at the mental image of 35 bridgemen marching tightly through a chaotic war amp in parshendi bone-armor. At 2 in the morning. I fee...   \n",
       "\n",
       "  subreddit  created_utc          author  num_comments  score  is_self  \\\n",
       "0   Fantasy   1595295818    Overthrown77            16      5     True   \n",
       "1   Fantasy   1595304562   OraclePreston            55     19     True   \n",
       "2   Fantasy   1595305376  omnomenclature            59     17     True   \n",
       "3   Fantasy   1595305716  UlyssesCourier            61     33     True   \n",
       "4   Fantasy   1595311158        Bock_Tea            65    126     True   \n",
       "\n",
       "    timestamp  \n",
       "0  2020-07-20  \n",
       "1  2020-07-21  \n",
       "2  2020-07-21  \n",
       "3  2020-07-21  \n",
       "4  2020-07-21  "
      ]
     },
     "execution_count": 44,
     "metadata": {},
     "output_type": "execute_result"
    }
   ],
   "source": [
    "df = pd.read_csv(\"../data/subreddits.csv\", )\n",
    "df.head()"
   ]
  },
  {
   "cell_type": "code",
   "execution_count": 45,
   "metadata": {},
   "outputs": [
    {
     "name": "stdout",
     "output_type": "stream",
     "text": [
      "<class 'pandas.core.frame.DataFrame'>\n",
      "RangeIndex: 5057 entries, 0 to 5056\n",
      "Data columns (total 9 columns):\n",
      " #   Column        Non-Null Count  Dtype \n",
      "---  ------        --------------  ----- \n",
      " 0   title         5057 non-null   object\n",
      " 1   selftext      5057 non-null   object\n",
      " 2   subreddit     5057 non-null   object\n",
      " 3   created_utc   5057 non-null   int64 \n",
      " 4   author        5057 non-null   object\n",
      " 5   num_comments  5057 non-null   int64 \n",
      " 6   score         5057 non-null   int64 \n",
      " 7   is_self       5057 non-null   bool  \n",
      " 8   timestamp     5057 non-null   object\n",
      "dtypes: bool(1), int64(3), object(5)\n",
      "memory usage: 321.1+ KB\n"
     ]
    }
   ],
   "source": [
    "df.info()"
   ]
  },
  {
   "cell_type": "markdown",
   "metadata": {},
   "source": [
    "## Data Dictionary\n",
    "\n",
    "|Column Name|Data Type|Description|\n",
    "|---|---|---|\n",
    "|title |object|Title given to the post|\n",
    "|selftext |object|Main body of the post|\n",
    "|subreddit |object|Which subreddit the post was from, our target|\n",
    "|created_utc |int|Date and time this was posted in Epoch time|\n",
    "|author |object|The username of the redditor|\n",
    "|num_comments |int|The number of comments made on the post|\n",
    "|score |int|The number of upvotes the post received|\n",
    "|is_self |bool|Checks that the post is a text|\n",
    "|timestamp |object|The date of the post in yyyy/mm/dd form|"
   ]
  },
  {
   "cell_type": "markdown",
   "metadata": {},
   "source": [
    "## Data Cleaning"
   ]
  },
  {
   "cell_type": "markdown",
   "metadata": {},
   "source": [
    "### Null Values"
   ]
  },
  {
   "cell_type": "code",
   "execution_count": 46,
   "metadata": {
    "scrolled": true
   },
   "outputs": [
    {
     "data": {
      "text/plain": [
       "title           0\n",
       "selftext        0\n",
       "subreddit       0\n",
       "created_utc     0\n",
       "author          0\n",
       "num_comments    0\n",
       "score           0\n",
       "is_self         0\n",
       "timestamp       0\n",
       "dtype: int64"
      ]
     },
     "execution_count": 46,
     "metadata": {},
     "output_type": "execute_result"
    }
   ],
   "source": [
    "df.isna().sum()"
   ]
  },
  {
   "cell_type": "markdown",
   "metadata": {},
   "source": [
    "### Dropping Columns"
   ]
  },
  {
   "cell_type": "code",
   "execution_count": 47,
   "metadata": {
    "scrolled": true
   },
   "outputs": [
    {
     "data": {
      "text/html": [
       "<div>\n",
       "<style scoped>\n",
       "    .dataframe tbody tr th:only-of-type {\n",
       "        vertical-align: middle;\n",
       "    }\n",
       "\n",
       "    .dataframe tbody tr th {\n",
       "        vertical-align: top;\n",
       "    }\n",
       "\n",
       "    .dataframe thead th {\n",
       "        text-align: right;\n",
       "    }\n",
       "</style>\n",
       "<table border=\"1\" class=\"dataframe\">\n",
       "  <thead>\n",
       "    <tr style=\"text-align: right;\">\n",
       "      <th></th>\n",
       "      <th>title</th>\n",
       "      <th>selftext</th>\n",
       "      <th>subreddit</th>\n",
       "      <th>is_self</th>\n",
       "      <th>timestamp</th>\n",
       "    </tr>\n",
       "  </thead>\n",
       "  <tbody>\n",
       "    <tr>\n",
       "      <th>0</th>\n",
       "      <td>LF Recommendation: Fantasy with long travel episode(s)?</td>\n",
       "      <td>Hi looking for recommendation for a top preferably well known / well-regarded fantasy novel that has as part of its story arc some sort of longer traveling section where character(s) have to trave...</td>\n",
       "      <td>Fantasy</td>\n",
       "      <td>True</td>\n",
       "      <td>2020-07-20</td>\n",
       "    </tr>\n",
       "    <tr>\n",
       "      <th>1</th>\n",
       "      <td>What is the best Fantasy book you've read that has three stars or less on Goodreads?</td>\n",
       "      <td>usually I don't enjoy something below four stars, to be honest. But sometimes a 3 star book will leave me baffled at everybody's madness, wondering if I read a version from a different timeline be...</td>\n",
       "      <td>Fantasy</td>\n",
       "      <td>True</td>\n",
       "      <td>2020-07-21</td>\n",
       "    </tr>\n",
       "  </tbody>\n",
       "</table>\n",
       "</div>"
      ],
      "text/plain": [
       "                                                                                  title  \\\n",
       "0                               LF Recommendation: Fantasy with long travel episode(s)?   \n",
       "1  What is the best Fantasy book you've read that has three stars or less on Goodreads?   \n",
       "\n",
       "                                                                                                                                                                                                  selftext  \\\n",
       "0  Hi looking for recommendation for a top preferably well known / well-regarded fantasy novel that has as part of its story arc some sort of longer traveling section where character(s) have to trave...   \n",
       "1  usually I don't enjoy something below four stars, to be honest. But sometimes a 3 star book will leave me baffled at everybody's madness, wondering if I read a version from a different timeline be...   \n",
       "\n",
       "  subreddit  is_self   timestamp  \n",
       "0   Fantasy     True  2020-07-20  \n",
       "1   Fantasy     True  2020-07-21  "
      ]
     },
     "execution_count": 47,
     "metadata": {},
     "output_type": "execute_result"
    }
   ],
   "source": [
    "df.drop(columns = [\"created_utc\", \"score\", \"author\", \"num_comments\"], inplace = True)\n",
    "df.head(2)"
   ]
  },
  {
   "cell_type": "code",
   "execution_count": null,
   "metadata": {},
   "outputs": [],
   "source": []
  },
  {
   "cell_type": "markdown",
   "metadata": {},
   "source": [
    "---"
   ]
  },
  {
   "cell_type": "code",
   "execution_count": 48,
   "metadata": {},
   "outputs": [
    {
     "data": {
      "text/html": [
       "<div>\n",
       "<style scoped>\n",
       "    .dataframe tbody tr th:only-of-type {\n",
       "        vertical-align: middle;\n",
       "    }\n",
       "\n",
       "    .dataframe tbody tr th {\n",
       "        vertical-align: top;\n",
       "    }\n",
       "\n",
       "    .dataframe thead th {\n",
       "        text-align: right;\n",
       "    }\n",
       "</style>\n",
       "<table border=\"1\" class=\"dataframe\">\n",
       "  <thead>\n",
       "    <tr style=\"text-align: right;\">\n",
       "      <th></th>\n",
       "      <th>title</th>\n",
       "      <th>selftext</th>\n",
       "      <th>subreddit</th>\n",
       "    </tr>\n",
       "  </thead>\n",
       "  <tbody>\n",
       "    <tr>\n",
       "      <th>0</th>\n",
       "      <td>LF Recommendation: Fantasy with long travel episode(s)?</td>\n",
       "      <td>Hi looking for recommendation for a top preferably well known / well-regarded fantasy novel that has as part of its story arc some sort of longer traveling section where character(s) have to trave...</td>\n",
       "      <td>Fantasy</td>\n",
       "    </tr>\n",
       "    <tr>\n",
       "      <th>1</th>\n",
       "      <td>What is the best Fantasy book you've read that has three stars or less on Goodreads?</td>\n",
       "      <td>usually I don't enjoy something below four stars, to be honest. But sometimes a 3 star book will leave me baffled at everybody's madness, wondering if I read a version from a different timeline be...</td>\n",
       "      <td>Fantasy</td>\n",
       "    </tr>\n",
       "    <tr>\n",
       "      <th>2</th>\n",
       "      <td>Favorite fantasy names?</td>\n",
       "      <td>I love fantasy, and I also have a thing for names. I’d love to hear everyone’s favorite character names from fantasy! It would also be cool to hear if anyone has named their children after their f...</td>\n",
       "      <td>Fantasy</td>\n",
       "    </tr>\n",
       "    <tr>\n",
       "      <th>3</th>\n",
       "      <td>Anyone can recommend me a book without having a focus on the monarchy?</td>\n",
       "      <td>Idk how else to put the title but I really want to get a good story of adventure on the perspective of a commoner or some mercenary, etc. It can have a monarchy in it just not have it be a focus o...</td>\n",
       "      <td>Fantasy</td>\n",
       "    </tr>\n",
       "    <tr>\n",
       "      <th>4</th>\n",
       "      <td>It’s been 10 years since I read “The Way of Kings” the first time.</td>\n",
       "      <td>And now, here I am, a 32 year old man, chuckling under my blanket at the mental image of 35 bridgemen marching tightly through a chaotic war amp in parshendi bone-armor. At 2 in the morning. I fee...</td>\n",
       "      <td>Fantasy</td>\n",
       "    </tr>\n",
       "    <tr>\n",
       "      <th>...</th>\n",
       "      <td>...</td>\n",
       "      <td>...</td>\n",
       "      <td>...</td>\n",
       "    </tr>\n",
       "    <tr>\n",
       "      <th>2512</th>\n",
       "      <td>Hi. I'm Terry M. Dunn, author of the DANEBURY trilogy. Ask me anything !!!</td>\n",
       "      <td>I first launched 'DANNU'S MAN' two years ago on Kindle, followed by 'ONE MAN'S HONOUR' and have just added the final book 'A MAN of his TIME' in the last week, completing three years work for the ...</td>\n",
       "      <td>Fantasy</td>\n",
       "    </tr>\n",
       "    <tr>\n",
       "      <th>2513</th>\n",
       "      <td>/r/Fantasy - Daily Recommendation Requests and Simple Questions Thread - May 13, 2020</td>\n",
       "      <td>This thread is to be used for recommendation requests or simple questions that are small/general enough that they won’t spark a full thread of discussion. \\n\\nAs usual, first have a look at the si...</td>\n",
       "      <td>Fantasy</td>\n",
       "    </tr>\n",
       "    <tr>\n",
       "      <th>2514</th>\n",
       "      <td>/r/Fantasy Writing Wednesday - May 13, 2020</td>\n",
       "      <td>The weekly Writing Wednesday thread is the place to ask questions about writing. Wanna run an idea past someone? Looking for a beta reader? Have a question about publishing your first book? Need w...</td>\n",
       "      <td>Fantasy</td>\n",
       "    </tr>\n",
       "    <tr>\n",
       "      <th>2515</th>\n",
       "      <td>Deals, Deals, Deals - Daily Sales Thread May 13, 2020</td>\n",
       "      <td>Due to the increased flood of sales posts, authors announcing sales of their own books should post in the daily sales thread. \\n\\n**This thread is for sales and deals only.** If your book is regul...</td>\n",
       "      <td>Fantasy</td>\n",
       "    </tr>\n",
       "    <tr>\n",
       "      <th>2516</th>\n",
       "      <td>Any great YA fantasy novels?</td>\n",
       "      <td>Hey! Thank you for all the recommendations in my previous threads - I really appreciate it! I already added the books to my TBR list and I am sure after I read Malazan those will be the first that...</td>\n",
       "      <td>Fantasy</td>\n",
       "    </tr>\n",
       "  </tbody>\n",
       "</table>\n",
       "<p>2517 rows × 3 columns</p>\n",
       "</div>"
      ],
      "text/plain": [
       "                                                                                      title  \\\n",
       "0                                   LF Recommendation: Fantasy with long travel episode(s)?   \n",
       "1      What is the best Fantasy book you've read that has three stars or less on Goodreads?   \n",
       "2                                                                   Favorite fantasy names?   \n",
       "3                    Anyone can recommend me a book without having a focus on the monarchy?   \n",
       "4                        It’s been 10 years since I read “The Way of Kings” the first time.   \n",
       "...                                                                                     ...   \n",
       "2512             Hi. I'm Terry M. Dunn, author of the DANEBURY trilogy. Ask me anything !!!   \n",
       "2513  /r/Fantasy - Daily Recommendation Requests and Simple Questions Thread - May 13, 2020   \n",
       "2514                                            /r/Fantasy Writing Wednesday - May 13, 2020   \n",
       "2515                                  Deals, Deals, Deals - Daily Sales Thread May 13, 2020   \n",
       "2516                                                           Any great YA fantasy novels?   \n",
       "\n",
       "                                                                                                                                                                                                     selftext  \\\n",
       "0     Hi looking for recommendation for a top preferably well known / well-regarded fantasy novel that has as part of its story arc some sort of longer traveling section where character(s) have to trave...   \n",
       "1     usually I don't enjoy something below four stars, to be honest. But sometimes a 3 star book will leave me baffled at everybody's madness, wondering if I read a version from a different timeline be...   \n",
       "2     I love fantasy, and I also have a thing for names. I’d love to hear everyone’s favorite character names from fantasy! It would also be cool to hear if anyone has named their children after their f...   \n",
       "3     Idk how else to put the title but I really want to get a good story of adventure on the perspective of a commoner or some mercenary, etc. It can have a monarchy in it just not have it be a focus o...   \n",
       "4     And now, here I am, a 32 year old man, chuckling under my blanket at the mental image of 35 bridgemen marching tightly through a chaotic war amp in parshendi bone-armor. At 2 in the morning. I fee...   \n",
       "...                                                                                                                                                                                                       ...   \n",
       "2512  I first launched 'DANNU'S MAN' two years ago on Kindle, followed by 'ONE MAN'S HONOUR' and have just added the final book 'A MAN of his TIME' in the last week, completing three years work for the ...   \n",
       "2513  This thread is to be used for recommendation requests or simple questions that are small/general enough that they won’t spark a full thread of discussion. \\n\\nAs usual, first have a look at the si...   \n",
       "2514  The weekly Writing Wednesday thread is the place to ask questions about writing. Wanna run an idea past someone? Looking for a beta reader? Have a question about publishing your first book? Need w...   \n",
       "2515  Due to the increased flood of sales posts, authors announcing sales of their own books should post in the daily sales thread. \\n\\n**This thread is for sales and deals only.** If your book is regul...   \n",
       "2516  Hey! Thank you for all the recommendations in my previous threads - I really appreciate it! I already added the books to my TBR list and I am sure after I read Malazan those will be the first that...   \n",
       "\n",
       "     subreddit  \n",
       "0      Fantasy  \n",
       "1      Fantasy  \n",
       "2      Fantasy  \n",
       "3      Fantasy  \n",
       "4      Fantasy  \n",
       "...        ...  \n",
       "2512   Fantasy  \n",
       "2513   Fantasy  \n",
       "2514   Fantasy  \n",
       "2515   Fantasy  \n",
       "2516   Fantasy  \n",
       "\n",
       "[2517 rows x 3 columns]"
      ]
     },
     "execution_count": 48,
     "metadata": {},
     "output_type": "execute_result"
    }
   ],
   "source": [
    "df.loc[df[\"subreddit\"] == \"Fantasy\", [\"title\", \"selftext\", \"subreddit\"]]"
   ]
  },
  {
   "cell_type": "code",
   "execution_count": 49,
   "metadata": {},
   "outputs": [
    {
     "data": {
      "text/html": [
       "<div>\n",
       "<style scoped>\n",
       "    .dataframe tbody tr th:only-of-type {\n",
       "        vertical-align: middle;\n",
       "    }\n",
       "\n",
       "    .dataframe tbody tr th {\n",
       "        vertical-align: top;\n",
       "    }\n",
       "\n",
       "    .dataframe thead th {\n",
       "        text-align: right;\n",
       "    }\n",
       "</style>\n",
       "<table border=\"1\" class=\"dataframe\">\n",
       "  <thead>\n",
       "    <tr style=\"text-align: right;\">\n",
       "      <th></th>\n",
       "      <th>title</th>\n",
       "      <th>selftext</th>\n",
       "      <th>subreddit</th>\n",
       "    </tr>\n",
       "  </thead>\n",
       "  <tbody>\n",
       "    <tr>\n",
       "      <th>2517</th>\n",
       "      <td>Help needed - I’m writing a whodunit detective story and I have a question on creating a piece of evidence.</td>\n",
       "      <td>So this is my idea, At the place of crime, the detective finds out that the clock is running faster than the usual as it has been magnetized. As the story unfolds, he finds out that the Antagonist...</td>\n",
       "      <td>scifi</td>\n",
       "    </tr>\n",
       "    <tr>\n",
       "      <th>2518</th>\n",
       "      <td>Anyone else feel Robocop 2 is underrated?</td>\n",
       "      <td>Okay, so don’t get me wrong, the original Robocop is unbeatable and clearly the best of the series but I think Robocop 2 has been unfairly lumped in with the other Robocop sequels and successors. ...</td>\n",
       "      <td>scifi</td>\n",
       "    </tr>\n",
       "    <tr>\n",
       "      <th>2519</th>\n",
       "      <td>Looking for an cancelled space sci-fi series</td>\n",
       "      <td>Hi.\\n\\nI'm thinking of an series where it seems to be earth vs an alien race war.\\nOne of the.main actors is a high level military that runs one of the big starships.\\nThe guy is an older black ma...</td>\n",
       "      <td>scifi</td>\n",
       "    </tr>\n",
       "    <tr>\n",
       "      <th>2520</th>\n",
       "      <td>Would a Halo Ring around earth work?</td>\n",
       "      <td>In theory, if you built a halo ring around earth, then rotated it around earth, could you produce any electricity from induction?</td>\n",
       "      <td>scifi</td>\n",
       "    </tr>\n",
       "    <tr>\n",
       "      <th>2521</th>\n",
       "      <td>Trying to remember something from an old book or short story - an insectoid alien who asked \"Does your dagger contain iron?\"</td>\n",
       "      <td>I recall many years ago I read a book or a short story in which an insectoid alien (or an alien who was descended from insect-like ancestors) was escorting a human through her (I think?) hive.  I ...</td>\n",
       "      <td>scifi</td>\n",
       "    </tr>\n",
       "    <tr>\n",
       "      <th>...</th>\n",
       "      <td>...</td>\n",
       "      <td>...</td>\n",
       "      <td>...</td>\n",
       "    </tr>\n",
       "    <tr>\n",
       "      <th>5052</th>\n",
       "      <td>Need Help Identifying 2 Book Titles</td>\n",
       "      <td>I read two books (one may have been a short story) some time ago and I vaguely remember the premise but not the titles.\\n\\nOne, possibly a short story, was about a star's life cycle from the star'...</td>\n",
       "      <td>scifi</td>\n",
       "    </tr>\n",
       "    <tr>\n",
       "      <th>5053</th>\n",
       "      <td>Looking for recommendations for exploration themed novels.</td>\n",
       "      <td>Like the subject line says. I am looking for some new reading material that leans towards exploration and a sense of wonder play key parts in the story.\\n\\nI have avidly consumed the works of Jack...</td>\n",
       "      <td>scifi</td>\n",
       "    </tr>\n",
       "    <tr>\n",
       "      <th>5054</th>\n",
       "      <td>I am not an expert, but this book should be “The Theory of Everything” :D</td>\n",
       "      <td>Even though the main part of the story was novel and capturing. I did enjoy by AI, definitely my favorite character. First time in Sci-Fi that it was not some banal AI revolution or some omnipoten...</td>\n",
       "      <td>scifi</td>\n",
       "    </tr>\n",
       "    <tr>\n",
       "      <th>5055</th>\n",
       "      <td>Goliath &amp;amp; The Water Knife</td>\n",
       "      <td>Prime's just released  **GOLIATH** Season 3's plot focuses much of it's plot on water scarcity and associated rights. \\n\\n**The Water Knife** by *Paolo Bacigalupi,* based on his short story, **The...</td>\n",
       "      <td>scifi</td>\n",
       "    </tr>\n",
       "    <tr>\n",
       "      <th>5056</th>\n",
       "      <td>Classic scifi TV series?</td>\n",
       "      <td>What are the classic scifi TV series that one should watch to be considered well versed?</td>\n",
       "      <td>scifi</td>\n",
       "    </tr>\n",
       "  </tbody>\n",
       "</table>\n",
       "<p>2540 rows × 3 columns</p>\n",
       "</div>"
      ],
      "text/plain": [
       "                                                                                                                             title  \\\n",
       "2517                   Help needed - I’m writing a whodunit detective story and I have a question on creating a piece of evidence.   \n",
       "2518                                                                                     Anyone else feel Robocop 2 is underrated?   \n",
       "2519                                                                                  Looking for an cancelled space sci-fi series   \n",
       "2520                                                                                          Would a Halo Ring around earth work?   \n",
       "2521  Trying to remember something from an old book or short story - an insectoid alien who asked \"Does your dagger contain iron?\"   \n",
       "...                                                                                                                            ...   \n",
       "5052                                                                                           Need Help Identifying 2 Book Titles   \n",
       "5053                                                                    Looking for recommendations for exploration themed novels.   \n",
       "5054                                                     I am not an expert, but this book should be “The Theory of Everything” :D   \n",
       "5055                                                                                                 Goliath &amp; The Water Knife   \n",
       "5056                                                                                                      Classic scifi TV series?   \n",
       "\n",
       "                                                                                                                                                                                                     selftext  \\\n",
       "2517  So this is my idea, At the place of crime, the detective finds out that the clock is running faster than the usual as it has been magnetized. As the story unfolds, he finds out that the Antagonist...   \n",
       "2518  Okay, so don’t get me wrong, the original Robocop is unbeatable and clearly the best of the series but I think Robocop 2 has been unfairly lumped in with the other Robocop sequels and successors. ...   \n",
       "2519  Hi.\\n\\nI'm thinking of an series where it seems to be earth vs an alien race war.\\nOne of the.main actors is a high level military that runs one of the big starships.\\nThe guy is an older black ma...   \n",
       "2520                                                                        In theory, if you built a halo ring around earth, then rotated it around earth, could you produce any electricity from induction?   \n",
       "2521  I recall many years ago I read a book or a short story in which an insectoid alien (or an alien who was descended from insect-like ancestors) was escorting a human through her (I think?) hive.  I ...   \n",
       "...                                                                                                                                                                                                       ...   \n",
       "5052  I read two books (one may have been a short story) some time ago and I vaguely remember the premise but not the titles.\\n\\nOne, possibly a short story, was about a star's life cycle from the star'...   \n",
       "5053  Like the subject line says. I am looking for some new reading material that leans towards exploration and a sense of wonder play key parts in the story.\\n\\nI have avidly consumed the works of Jack...   \n",
       "5054  Even though the main part of the story was novel and capturing. I did enjoy by AI, definitely my favorite character. First time in Sci-Fi that it was not some banal AI revolution or some omnipoten...   \n",
       "5055  Prime's just released  **GOLIATH** Season 3's plot focuses much of it's plot on water scarcity and associated rights. \\n\\n**The Water Knife** by *Paolo Bacigalupi,* based on his short story, **The...   \n",
       "5056                                                                                                                 What are the classic scifi TV series that one should watch to be considered well versed?   \n",
       "\n",
       "     subreddit  \n",
       "2517     scifi  \n",
       "2518     scifi  \n",
       "2519     scifi  \n",
       "2520     scifi  \n",
       "2521     scifi  \n",
       "...        ...  \n",
       "5052     scifi  \n",
       "5053     scifi  \n",
       "5054     scifi  \n",
       "5055     scifi  \n",
       "5056     scifi  \n",
       "\n",
       "[2540 rows x 3 columns]"
      ]
     },
     "execution_count": 49,
     "metadata": {},
     "output_type": "execute_result"
    }
   ],
   "source": [
    "df.loc[df[\"subreddit\"] == \"scifi\", [\"title\", \"selftext\", \"subreddit\"]]"
   ]
  },
  {
   "cell_type": "code",
   "execution_count": null,
   "metadata": {},
   "outputs": [],
   "source": []
  },
  {
   "cell_type": "code",
   "execution_count": null,
   "metadata": {},
   "outputs": [],
   "source": []
  },
  {
   "cell_type": "code",
   "execution_count": null,
   "metadata": {},
   "outputs": [],
   "source": []
  },
  {
   "cell_type": "code",
   "execution_count": 50,
   "metadata": {},
   "outputs": [
    {
     "data": {
      "text/plain": [
       "CountVectorizer()"
      ]
     },
     "execution_count": 50,
     "metadata": {},
     "output_type": "execute_result"
    }
   ],
   "source": [
    "cvec = CountVectorizer()\n",
    "cvec.fit(df)"
   ]
  },
  {
   "cell_type": "code",
   "execution_count": 51,
   "metadata": {},
   "outputs": [],
   "source": [
    "df_vect = cvec.transform(df)"
   ]
  },
  {
   "cell_type": "code",
   "execution_count": null,
   "metadata": {},
   "outputs": [],
   "source": [
    "vertorized_df = pd.DataFrame(df_vect.toarray(),\n",
    "                          columns=cvec.get_feature_names())\n",
    "X_train_df"
   ]
  },
  {
   "cell_type": "markdown",
   "metadata": {},
   "source": [
    "## Exploratory Data Analysis\n",
    "This might lead back to data cleaning"
   ]
  },
  {
   "cell_type": "markdown",
   "metadata": {},
   "source": [
    "## Model Prep\n",
    "Establish X, y, train/test split"
   ]
  },
  {
   "cell_type": "markdown",
   "metadata": {},
   "source": [
    "## Modeling"
   ]
  },
  {
   "cell_type": "markdown",
   "metadata": {},
   "source": [
    "### Baseline"
   ]
  },
  {
   "cell_type": "markdown",
   "metadata": {},
   "source": [
    "Every model needs these 4 things"
   ]
  },
  {
   "cell_type": "code",
   "execution_count": 1,
   "metadata": {},
   "outputs": [],
   "source": [
    "# Training Score"
   ]
  },
  {
   "cell_type": "code",
   "execution_count": 2,
   "metadata": {},
   "outputs": [],
   "source": [
    "# Testing Score"
   ]
  },
  {
   "cell_type": "code",
   "execution_count": 3,
   "metadata": {},
   "outputs": [],
   "source": [
    "# Crossval Score"
   ]
  },
  {
   "cell_type": "markdown",
   "metadata": {},
   "source": [
    "__Interpretation:__ The training score is \"blank\" and a testing score of \"blank\""
   ]
  },
  {
   "cell_type": "markdown",
   "metadata": {},
   "source": [
    "### Model 1"
   ]
  },
  {
   "cell_type": "markdown",
   "metadata": {},
   "source": [
    "### Model 1"
   ]
  },
  {
   "cell_type": "markdown",
   "metadata": {},
   "source": [
    "### Model 2"
   ]
  },
  {
   "cell_type": "markdown",
   "metadata": {},
   "source": [
    "### Model 3"
   ]
  },
  {
   "cell_type": "markdown",
   "metadata": {},
   "source": [
    "## Model Selection"
   ]
  },
  {
   "cell_type": "markdown",
   "metadata": {},
   "source": [
    "Markdown Table\n",
    "Model Name | Training Score | Testing Score\n",
    "-|-|-\n",
    "Baseline | % | % \n",
    "etc, etc\n",
    "\n",
    "Our best predictive model was the \"blank\" model, and go into it's performance\n",
    "Our best interpretive model was the \"blank\" model, and we'll explain it"
   ]
  },
  {
   "cell_type": "markdown",
   "metadata": {},
   "source": [
    "## Model Evaluation\n",
    "residuals, LINEI, etc"
   ]
  },
  {
   "cell_type": "markdown",
   "metadata": {},
   "source": [
    "## Conclusion & Recommendations\n",
    "State explicitly you model performance and ANSWER THE PROBLEM!"
   ]
  },
  {
   "cell_type": "markdown",
   "metadata": {},
   "source": [
    "## References\n",
    "-[Human words](URL)"
   ]
  }
 ],
 "metadata": {
  "kernelspec": {
   "display_name": "Python 3",
   "language": "python",
   "name": "python3"
  },
  "language_info": {
   "codemirror_mode": {
    "name": "ipython",
    "version": 3
   },
   "file_extension": ".py",
   "mimetype": "text/x-python",
   "name": "python",
   "nbconvert_exporter": "python",
   "pygments_lexer": "ipython3",
   "version": "3.6.5"
  }
 },
 "nbformat": 4,
 "nbformat_minor": 4
}
